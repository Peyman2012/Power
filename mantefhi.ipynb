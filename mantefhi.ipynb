{
 "cells": [
  {
   "cell_type": "code",
   "execution_count": 3,
   "metadata": {},
   "outputs": [
    {
     "name": "stdout",
     "output_type": "stream",
     "text": [
      "Logical AND (&&)\n",
      "False && False: False\n",
      "False && True: False\n",
      "True && False: False\n",
      "True && True: True\n",
      "Logical OR (||)\n",
      "False || False: False\n",
      "False || True: False\n",
      "True || False: False\n",
      "True || True: True\n",
      "Logical NOT (!)\n",
      "!False: True\n"
     ]
    }
   ],
   "source": [
    "print(\"Logical AND (&&)\")\n",
    "print(\"False && False:\",False and False)\n",
    "print(\"False && True:\",False and True)\n",
    "print(\"True && False:\",True and False)\n",
    "print(\"True && True:\",True and True)\n",
    "print(\"Logical OR (||)\")\n",
    "print(\"False || False:\",False and False)\n",
    "print(\"False || True:\",False and True)\n",
    "print(\"True || False:\",True and False)\n",
    "print(\"True || True:\",True and True)\n",
    "print(\"Logical NOT (!)\")\n",
    "print(\"!False:\", not False)"
   ]
  },
  {
   "cell_type": "code",
   "execution_count": null,
   "metadata": {},
   "outputs": [],
   "source": []
  }
 ],
 "metadata": {
  "kernelspec": {
   "display_name": "Python 3",
   "language": "python",
   "name": "python3"
  },
  "language_info": {
   "codemirror_mode": {
    "name": "ipython",
    "version": 3
   },
   "file_extension": ".py",
   "mimetype": "text/x-python",
   "name": "python",
   "nbconvert_exporter": "python",
   "pygments_lexer": "ipython3",
   "version": "3.6.13"
  }
 },
 "nbformat": 4,
 "nbformat_minor": 2
}
